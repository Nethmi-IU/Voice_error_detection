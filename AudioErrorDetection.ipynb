{
 "cells": [
  {
   "cell_type": "code",
   "execution_count": 1,
   "id": "8ec4b824",
   "metadata": {},
   "outputs": [
    {
     "name": "stdout",
     "output_type": "stream",
     "text": [
      "Renamed '17 Oct, 1.07 pm​.aac' to '001.aac'\n",
      "Renamed '17 Oct, 12.47 pm​.aac' to '002.aac'\n",
      "Renamed '17 Oct, 12.56 pm​.aac' to '003.aac'\n",
      "Renamed '17 Oct, 12.58 pm​.aac' to '004.aac'\n",
      "Renamed '30 Oct, 11.56 am​(2).aac' to '005.aac'\n",
      "Renamed '30 Oct, 11.57 am​(2).aac' to '006.aac'\n",
      "Renamed '30 Oct, 12.00 pm​(2).aac' to '007.aac'\n",
      "Renamed '30 Oct, 12.03 pm​(2).aac' to '008.aac'\n",
      "Renamed '30 Oct, 12.12 pm​(5).aac' to '009.aac'\n",
      "Renamed '30Oct,11.52am_-[AudioTrimmer.com].mp3' to '010.mp3'\n",
      "Renamed '30Oct,11.54am_(2)-[AudioTrimmer.com].mp3' to '011.mp3'\n",
      "Renamed '30Oct,11.59am_-[AudioTrimmer.com].mp3' to '012.mp3'\n",
      "Renamed '30Oct,12.07pm_(3)-[AudioTrimmer.com].mp3' to '013.mp3'\n",
      "Renamed '31Oct,8.41am_(2)-[AudioTrimmer.com].mp3' to '014.mp3'\n",
      "Renamed '31Oct,8.41am_-[AudioTrimmer.com].mp3' to '015.mp3'\n",
      "Renamed '31Oct,8.42am_-[AudioTrimmer.com].mp3' to '016.mp3'\n",
      "Renamed 'nimbering to 10.aac' to '017.aac'\n",
      "Renamed 'numbers .aac' to '018.aac'\n",
      "All audio files have been renamed with incremental numbers.\n"
     ]
    }
   ],
   "source": [
    "import os\n",
    "\n",
    "folder_path = \"C:/Users/NETHMI/Documents/ORAGAN.IST/Voice detection/Correct\"\n",
    "\n",
    "audio_files = [f for f in os.listdir(folder_path) if f.endswith(('.mp3', '.aac', '.unknown'))]\n",
    "\n",
    "audio_files.sort()\n",
    "\n",
    "counter = 1\n",
    "\n",
    "for audio_file in audio_files:\n",
    "    \n",
    "    file_extension = os.path.splitext(audio_file)[1]\n",
    "    \n",
    "    new_filename = f\"{counter:03d}{file_extension}\" \n",
    "    \n",
    "    old_path = os.path.join(folder_path, audio_file)\n",
    "    new_path = os.path.join(folder_path, new_filename)\n",
    "    \n",
    "    os.rename(old_path, new_path)\n",
    "    \n",
    "    print(f\"Renamed '{audio_file}' to '{new_filename}'\")\n",
    "    \n",
    "    counter += 1\n",
    "\n",
    "print(\"All audio files have been renamed with incremental numbers.\")"
   ]
  },
  {
   "cell_type": "code",
   "execution_count": 2,
   "id": "73d755e8",
   "metadata": {},
   "outputs": [
    {
     "name": "stdout",
     "output_type": "stream",
     "text": [
      "Renamed '30 Oct, 12.05 pm​(2).aac' to '019.aac'\n",
      "Renamed '30 Oct, 12.07 pm​(2).aac' to '020.aac'\n",
      "Renamed '30 Oct, 12.08 pm​.aac' to '021.aac'\n",
      "Renamed '30Oct,12.02pm_(3)-[AudioTrimmer.com].mp3' to '022.mp3'\n",
      "Renamed '30Oct,12.11pm_-[AudioTrimmer.com].mp3' to '023.mp3'\n",
      "Renamed 'WhatsApp Audio 2023-10-17 at 15.22.41_f71d3d03.dat.unknown' to '024.unknown'\n",
      "Renamed 'WhatsApp Audio 2023-10-17 at 15.23.25_9904f3bf.dat.unknown' to '025.unknown'\n",
      "Renamed 'WhatsApp Audio 2023-10-17 at 15.23.34_e7d73fde.dat.unknown' to '026.unknown'\n",
      "All audio files have been renamed with incremental numbers.\n"
     ]
    }
   ],
   "source": [
    "import os\n",
    "\n",
    "folder_path = \"C:/Users/NETHMI/Documents/ORAGAN.IST/Voice detection/Incorrect\"\n",
    "\n",
    "audio_files = [f for f in os.listdir(folder_path) if f.endswith(('.mp3', '.aac', '.unknown'))]\n",
    "\n",
    "audio_files.sort()\n",
    "\n",
    "counter = 19\n",
    "\n",
    "for audio_file in audio_files:\n",
    "    \n",
    "    file_extension = os.path.splitext(audio_file)[1]\n",
    "    \n",
    "    new_filename = f\"{counter:03d}{file_extension}\" \n",
    "    \n",
    "    old_path = os.path.join(folder_path, audio_file)\n",
    "    new_path = os.path.join(folder_path, new_filename)\n",
    "    \n",
    "    os.rename(old_path, new_path)\n",
    "    \n",
    "    print(f\"Renamed '{audio_file}' to '{new_filename}'\")\n",
    "    \n",
    "    counter += 1\n",
    "\n",
    "print(\"All audio files have been renamed with incremental numbers.\")"
   ]
  },
  {
   "cell_type": "code",
   "execution_count": 2,
   "id": "a5d67baf",
   "metadata": {},
   "outputs": [],
   "source": [
    "#Change working directory for the Correct audio fil\n",
    "import os\n",
    "correct_file_path = \"C:/Users/NETHMI/Documents/ORAGAN.IST/Voice detection/Correct\"\n",
    "\n",
    "os.chdir(correct_file_path)\n",
    "audio_files = os.listdir()\n",
    "for file in audio_files:\n",
    "    p = Path(file)\n",
    "    p.rename(p.with_suffix('.wav'))"
   ]
  },
  {
   "cell_type": "code",
   "execution_count": 3,
   "id": "bd90ba10",
   "metadata": {},
   "outputs": [],
   "source": [
    "#Change working directory for the Incorrect audio files\n",
    "\n",
    "Incorrect_file_path = \"C:/Users/NETHMI/Documents/ORAGAN.IST/Voice detection/Incorrect\"\n",
    "\n",
    "os.chdir(Incorrect_file_path)\n",
    "audio_files = os.listdir()\n",
    "for file in audio_files:\n",
    "    p = Path(file)\n",
    "    p.rename(p.with_suffix('.wav'))"
   ]
  },
  {
   "cell_type": "code",
   "execution_count": 16,
   "id": "7a267796",
   "metadata": {},
   "outputs": [],
   "source": [
    "#pip install -U assemblyai"
   ]
  },
  {
   "cell_type": "code",
   "execution_count": 1,
   "id": "61222c7d",
   "metadata": {},
   "outputs": [
    {
     "name": "stdout",
     "output_type": "stream",
     "text": [
      "Collecting pyaudio\n",
      "  Obtaining dependency information for pyaudio from https://files.pythonhosted.org/packages/82/d8/f043c854aad450a76e476b0cf9cda1956419e1dacf1062eb9df3c0055abe/PyAudio-0.2.14-cp311-cp311-win_amd64.whl.metadata\n",
      "  Downloading PyAudio-0.2.14-cp311-cp311-win_amd64.whl.metadata (2.7 kB)\n",
      "Downloading PyAudio-0.2.14-cp311-cp311-win_amd64.whl (164 kB)\n",
      "   ---------------------------------------- 0.0/164.1 kB ? eta -:--:--\n",
      "   -- ------------------------------------- 10.2/164.1 kB ? eta -:--:--\n",
      "   --------- ----------------------------- 41.0/164.1 kB 393.8 kB/s eta 0:00:01\n",
      "   --------------------- ----------------- 92.2/164.1 kB 751.6 kB/s eta 0:00:01\n",
      "   -------------------------------------- 164.1/164.1 kB 899.6 kB/s eta 0:00:00\n",
      "Installing collected packages: pyaudio\n",
      "Successfully installed pyaudio-0.2.14\n",
      "Note: you may need to restart the kernel to use updated packages.\n"
     ]
    }
   ],
   "source": [
    "pip install pyaudio"
   ]
  },
  {
   "cell_type": "code",
   "execution_count": 1,
   "id": "4dd2c9f1",
   "metadata": {},
   "outputs": [
    {
     "name": "stdout",
     "output_type": "stream",
     "text": [
      "Collecting wave\n",
      "  Downloading Wave-0.0.2.zip (38 kB)\n",
      "  Preparing metadata (setup.py): started\n",
      "  Preparing metadata (setup.py): finished with status 'done'\n",
      "Building wheels for collected packages: wave\n",
      "  Building wheel for wave (setup.py): started\n",
      "  Building wheel for wave (setup.py): finished with status 'done'\n",
      "  Created wheel for wave: filename=Wave-0.0.2-py3-none-any.whl size=1229 sha256=0fc9a75e53d35a8f55273a1a8c1341f68866e3d8c6cdd3c7f9ef6b47a6e96691\n",
      "  Stored in directory: c:\\users\\nethmi\\appdata\\local\\pip\\cache\\wheels\\9c\\ca\\18\\1b5c2e79061f666af1114a80567bbfdc72b1d9bcb5a584462c\n",
      "Successfully built wave\n",
      "Installing collected packages: wave\n",
      "Successfully installed wave-0.0.2\n",
      "Note: you may need to restart the kernel to use updated packages.\n"
     ]
    }
   ],
   "source": [
    "pip install wave"
   ]
  },
  {
   "cell_type": "code",
   "execution_count": 1,
   "id": "7c0bc3c9",
   "metadata": {},
   "outputs": [],
   "source": [
    "import assemblyai as aai\n",
    "import pyaudio\n",
    "import wave"
   ]
  },
  {
   "cell_type": "code",
   "execution_count": 4,
   "id": "e3acda17",
   "metadata": {},
   "outputs": [
    {
     "data": {
      "text/plain": [
       "<bound method Wave_write.close of <wave.Wave_write object at 0x0000026A441E8350>>"
      ]
     },
     "execution_count": 4,
     "metadata": {},
     "output_type": "execute_result"
    }
   ],
   "source": [
    "audio = pyaudio.PyAudio()\n",
    "\n",
    "stream = audio.open(format=pyaudio.paInt16, channels=1, rate=44100, input=True, frames_per_buffer=1024)\n",
    "\n",
    "frames = []\n",
    "\n",
    "try:\n",
    "    while True:\n",
    "        data = stream.read(1024)\n",
    "        frames.append(data)\n",
    "except KeyboardInterrupt:\n",
    "    pass\n",
    "\n",
    "stream.stop_stream()\n",
    "stream.close()\n",
    "audio.terminate()\n",
    "\n",
    "sound_file = wave.open(\"counting_audio.wav\", \"wb\")\n",
    "sound_file.setnchannels(1)\n",
    "sound_file.setsampwidth(audio.get_sample_size(pyaudio.paInt16))\n",
    "sound_file.setframerate(44100)\n",
    "sound_file.writeframes(b''.join(frames))\n",
    "sound_file.close\n",
    "\n"
   ]
  },
  {
   "cell_type": "code",
   "execution_count": 6,
   "id": "fdab2ac2",
   "metadata": {},
   "outputs": [
    {
     "name": "stdout",
     "output_type": "stream",
     "text": [
      "123456789\n"
     ]
    }
   ],
   "source": [
    "aai.settings.api_key = \"5047b3ccc5d640c699971767f2c08b25\"\n",
    "transcriber = aai.Transcriber()\n",
    "\n",
    "#Import audio files From Database\n",
    "#transcript = transcriber.transcribe(\"https://DATABASE URL.com/aai-web-samples/news.wav\")\n",
    "\n",
    "#Import classified audio data\n",
    "#transcript = transcriber.transcribe(\"C:/Users/NETHMI/Documents/ORAGAN.IST/Voice detection/audio_data/001.wav\")\n",
    "\n",
    "#Import New recording as \"counting_audio.wav\" paste your file path here\n",
    "transcript = transcriber.transcribe(\"C:/Users/NETHMI/Documents/ORAGAN.IST/Voice detection/counting_audio.wav\")\n",
    "\n",
    "import re\n",
    "\n",
    "input_string = transcript.text\n",
    "\n",
    "# Remove spaces and other characters between numbers\n",
    "result = re.sub(r'[^0-9]', '', input_string)\n",
    "\n",
    "print(result)\n"
   ]
  },
  {
   "cell_type": "code",
   "execution_count": 7,
   "id": "e280b553",
   "metadata": {},
   "outputs": [
    {
     "name": "stdout",
     "output_type": "stream",
     "text": [
      "You got it wrong\n"
     ]
    }
   ],
   "source": [
    "result == '12345678910'\n",
    "\n",
    "if result == '12345678910':\n",
    "    print('Well Done!')\n",
    "else:\n",
    "    print('You got it wrong')\n"
   ]
  },
  {
   "cell_type": "code",
   "execution_count": null,
   "id": "224e0338",
   "metadata": {},
   "outputs": [],
   "source": []
  }
 ],
 "metadata": {
  "kernelspec": {
   "display_name": "Python 3 (ipykernel)",
   "language": "python",
   "name": "python3"
  },
  "language_info": {
   "codemirror_mode": {
    "name": "ipython",
    "version": 3
   },
   "file_extension": ".py",
   "mimetype": "text/x-python",
   "name": "python",
   "nbconvert_exporter": "python",
   "pygments_lexer": "ipython3",
   "version": "3.11.5"
  }
 },
 "nbformat": 4,
 "nbformat_minor": 5
}
